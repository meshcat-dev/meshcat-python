{
 "cells": [
  {
   "cell_type": "markdown",
   "metadata": {},
   "source": [
    "# MeshCat Python"
   ]
  },
  {
   "cell_type": "code",
   "execution_count": null,
   "metadata": {},
   "outputs": [],
   "source": [
    "import numpy as np\n",
    "import os\n",
    "import time\n",
    "\n",
    "import meshcat\n",
    "import meshcat.geometry as g\n",
    "import meshcat.transformations as tf"
   ]
  },
  {
   "cell_type": "code",
   "execution_count": null,
   "metadata": {},
   "outputs": [],
   "source": [
    "# Create a new visualizer\n",
    "vis = meshcat.Visualizer()"
   ]
  },
  {
   "cell_type": "markdown",
   "metadata": {},
   "source": [
    "By default, creating the `Visualizer` will start up a meshcat server for you in the background. The easiest way to open the visualizer is with its ``open`` method:"
   ]
  },
  {
   "cell_type": "code",
   "execution_count": null,
   "metadata": {},
   "outputs": [],
   "source": [
    "vis.open()"
   ]
  },
  {
   "cell_type": "markdown",
   "metadata": {},
   "source": [
    "If ``vis.open()`` does not work for you, you can also point your browser to the server's URL:"
   ]
  },
  {
   "cell_type": "code",
   "execution_count": null,
   "metadata": {},
   "outputs": [],
   "source": [
    "vis.url()"
   ]
  },
  {
   "cell_type": "markdown",
   "metadata": {},
   "source": [
    "To create a 3D object, we use the `set_object` method:"
   ]
  },
  {
   "cell_type": "code",
   "execution_count": null,
   "metadata": {},
   "outputs": [],
   "source": [
    "vis.set_object(g.Box([0.2, 0.2, 0.2]))"
   ]
  },
  {
   "cell_type": "markdown",
   "metadata": {},
   "source": [
    "And to move that object around, we use `set_transform`:"
   ]
  },
  {
   "cell_type": "code",
   "execution_count": null,
   "metadata": {},
   "outputs": [],
   "source": [
    "for theta in np.linspace(0, 2 * np.pi, 200):\n",
    "    vis.set_transform(tf.rotation_matrix(theta, [0, 0, 1]))\n",
    "    time.sleep(0.005)"
   ]
  },
  {
   "cell_type": "markdown",
   "metadata": {},
   "source": [
    "MeshCat also supports embedding a 3D view inside a Jupyter notebook cell:"
   ]
  },
  {
   "cell_type": "code",
   "execution_count": null,
   "metadata": {},
   "outputs": [],
   "source": [
    "vis.jupyter_cell()"
   ]
  },
  {
   "cell_type": "markdown",
   "metadata": {},
   "source": [
    "Notice how the 3D scene displayed in the Jupyter cell matches the one in the external window. The meshcat server process remembers the objects and transforms you've sent, so opening a new browser pointing to the same URL should give you the same scene. "
   ]
  },
  {
   "cell_type": "markdown",
   "metadata": {},
   "source": [
    "Calling `set_object` again will replace the existing Box:"
   ]
  },
  {
   "cell_type": "code",
   "execution_count": null,
   "metadata": {},
   "outputs": [],
   "source": [
    "vis.set_object(g.Box([0.1, 0.1, 0.2]))"
   ]
  },
  {
   "cell_type": "markdown",
   "metadata": {},
   "source": [
    "We can also delete the box:"
   ]
  },
  {
   "cell_type": "code",
   "execution_count": null,
   "metadata": {},
   "outputs": [],
   "source": [
    "vis.delete()"
   ]
  },
  {
   "cell_type": "markdown",
   "metadata": {},
   "source": [
    "MeshCat supports simple 2d texts rendering. For example, to write 2d texts onto a geometry or object:"
   ]
  },
  {
   "cell_type": "code",
   "execution_count": null,
   "metadata": {},
   "outputs": [],
   "source": [
    "vis.set_text('Hello, world!',g.Box([1, 1, 2]),font_size=20)"
   ]
  },
  {
   "cell_type": "markdown",
   "metadata": {},
   "source": [
    "It is also possible to simple write 'floating' texts onto a scene without attached to an object (e.g., for scene description):"
   ]
  },
  {
   "cell_type": "code",
   "execution_count": null,
   "metadata": {},
   "outputs": [],
   "source": [
    "vis.delete()\n",
    "vis.set_text('Hello, world!')"
   ]
  },
  {
   "cell_type": "markdown",
   "metadata": {},
   "source": [
    "and just like the usual geometry/object, the texts can be rotated:"
   ]
  },
  {
   "cell_type": "code",
   "execution_count": null,
   "metadata": {},
   "outputs": [],
   "source": [
    "Rz = tf.rotation_matrix(np.pi/2, [0, 0, 1])\n",
    "Ry = tf.rotation_matrix(np.pi/2, [0, 1, 0])\n",
    "vis.set_transform(Ry.dot(Rz))"
   ]
  },
  {
   "cell_type": "markdown",
   "metadata": {},
   "source": [
    "Under the hood, the 'floating' texts are written onto a `Plane()` geometry, and the plane size can be specified with plane_width and plane_height. These two parameters affect the texts size when the font_size itself is set too large; they would force a font resizing when rendering so as to fit all the texts within the specified plane."
   ]
  },
  {
   "cell_type": "code",
   "execution_count": null,
   "metadata": {},
   "outputs": [],
   "source": [
    "for i in np.linspace(8,2,10):\n",
    "    vis.set_text('Hello, world!', plane_width=2*i, plane_height=i, font_size=200)\n",
    "    time.sleep(0.05)"
   ]
  },
  {
   "cell_type": "markdown",
   "metadata": {},
   "source": [
    "## The Scene Tree\n",
    "\n",
    "Obviously, we will often want to draw more than one object. So how do we do that? The fundamental idea of MeshCat is that it gives direct access to the *scene graph*. You can think of the scene as a tree of objects, and we name each object in the tree by its *path* from the root of the tree. Children in the tree inherit the transformations applied to their parents. So, for example, we might have a `robot` at the path `/robot`, and that robot might have a child called `head` at the path `/robot/head`. Each path in the tree can have a different geometry associated.\n",
    "\n",
    "First, let's create the robot. We access paths in the tree by indexing into the Visualizer:"
   ]
  },
  {
   "cell_type": "code",
   "execution_count": null,
   "metadata": {},
   "outputs": [],
   "source": [
    "vis[\"robot\"].set_object(g.Box([0.15, 0.35, 0.4]))"
   ]
  },
  {
   "cell_type": "markdown",
   "metadata": {},
   "source": [
    "Now let's give the robot a head:"
   ]
  },
  {
   "cell_type": "code",
   "execution_count": null,
   "metadata": {},
   "outputs": [],
   "source": [
    "vis[\"robot\"][\"head\"].set_object(g.Box([0.2, 0.2, 0.2]))\n",
    "vis[\"robot\"][\"head\"].set_transform(tf.translation_matrix([0, 0, 0.32]))"
   ]
  },
  {
   "cell_type": "markdown",
   "metadata": {},
   "source": [
    "We can move the entire robot by setting the transform of the `/robot` path:"
   ]
  },
  {
   "cell_type": "code",
   "execution_count": null,
   "metadata": {},
   "outputs": [],
   "source": [
    "for x in np.linspace(0, np.pi, 100):\n",
    "    vis[\"robot\"].set_transform(tf.translation_matrix([np.sin(x), 0, 0]))\n",
    "    time.sleep(0.01)"
   ]
  },
  {
   "cell_type": "markdown",
   "metadata": {},
   "source": [
    "And we can move just the head by setting the transform of `/robot/head`:"
   ]
  },
  {
   "cell_type": "code",
   "execution_count": null,
   "metadata": {},
   "outputs": [],
   "source": [
    "for x in np.linspace(0, 2 * np.pi, 100):\n",
    "    # vis[\"robot/head\"] is a shorthand for vis[\"robot\"][\"head\"]\n",
    "    vis[\"robot/head\"].set_transform(\n",
    "        tf.translation_matrix([0, 0, 0.32]).dot(\n",
    "            tf.rotation_matrix(x, [0, 0, 1])))\n",
    "    time.sleep(0.01)"
   ]
  },
  {
   "cell_type": "markdown",
   "metadata": {},
   "source": [
    "We can delete the head..."
   ]
  },
  {
   "cell_type": "code",
   "execution_count": null,
   "metadata": {},
   "outputs": [],
   "source": [
    "vis[\"robot/head\"].delete()"
   ]
  },
  {
   "cell_type": "markdown",
   "metadata": {},
   "source": [
    "...or the entire robot:"
   ]
  },
  {
   "cell_type": "code",
   "execution_count": null,
   "metadata": {},
   "outputs": [],
   "source": [
    "vis[\"robot\"].delete()"
   ]
  },
  {
   "cell_type": "markdown",
   "metadata": {},
   "source": [
    "## Other Geometries\n",
    "\n",
    "MeshCat supports several geometric primitives as well as meshes (represented by `.obj` files). You can also specify a material to describe the object's color, reflectivity, or texture:"
   ]
  },
  {
   "cell_type": "code",
   "execution_count": null,
   "metadata": {},
   "outputs": [],
   "source": [
    "vis[\"sphere\"].set_object(g.Sphere(0.1), \n",
    "                         g.MeshLambertMaterial(\n",
    "                             color=0xff22dd,\n",
    "                             reflectivity=0.8))"
   ]
  },
  {
   "cell_type": "code",
   "execution_count": null,
   "metadata": {},
   "outputs": [],
   "source": [
    "vis[\"sphere\"].delete()"
   ]
  },
  {
   "cell_type": "code",
   "execution_count": null,
   "metadata": {},
   "outputs": [],
   "source": [
    "vis[\"robots/valkyrie/head\"].set_object(\n",
    "    g.ObjMeshGeometry.from_file(\n",
    "        os.path.join(meshcat.viewer_assets_path(), \"data/head_multisense.obj\")),\n",
    "    g.MeshLambertMaterial(\n",
    "        map=g.ImageTexture(\n",
    "            image=g.PngImage.from_file(\n",
    "                os.path.join(meshcat.viewer_assets_path(), \"data/HeadTextureMultisense.png\"))\n",
    "        )\n",
    "    )\n",
    ")"
   ]
  },
  {
   "cell_type": "markdown",
   "metadata": {},
   "source": [
    "The `PointCloud()` function is a helper to create a `Points` object with a `PointsGeometry` and `PointsMaterial`:"
   ]
  },
  {
   "cell_type": "code",
   "execution_count": null,
   "metadata": {},
   "outputs": [],
   "source": [
    "verts = np.random.rand(3, 100000)\n",
    "vis[\"perception/pointclouds/random\"].set_object(\n",
    "    g.PointCloud(position=verts, color=verts))\n",
    "vis[\"perception/pointclouds/random\"].set_transform(\n",
    "    tf.translation_matrix([0, 1, 0]))"
   ]
  },
  {
   "cell_type": "code",
   "execution_count": null,
   "metadata": {},
   "outputs": [],
   "source": [
    "vis[\"robots\"].delete()\n",
    "vis[\"perception\"].delete()"
   ]
  },
  {
   "cell_type": "markdown",
   "metadata": {},
   "source": [
    "## Cart-Pole\n",
    "\n",
    "Here's a simple example of visualizing a mechanism:"
   ]
  },
  {
   "cell_type": "code",
   "execution_count": null,
   "metadata": {},
   "outputs": [],
   "source": [
    "cart_pole = vis[\"cart_pole\"]\n",
    "cart_pole.delete()\n",
    "cart = cart_pole[\"cart\"]\n",
    "pivot = cart[\"pivot\"]\n",
    "pole = pivot[\"pole\"]\n",
    "cart.set_object(g.Box([0.5, 0.3, 0.2]))\n",
    "pole.set_object(g.Box([1, 0.05, 0.05]))\n",
    "pole.set_transform(tf.translation_matrix([0.5, 0, 0]))\n",
    "pivot.set_transform(tf.rotation_matrix(-np.pi/2, [0, 1, 0]))"
   ]
  },
  {
   "cell_type": "code",
   "execution_count": null,
   "metadata": {},
   "outputs": [],
   "source": [
    "for x in np.linspace(-np.pi, np.pi, 200):\n",
    "    cart.set_transform(tf.translation_matrix([np.sin(x), 0, 0]))\n",
    "    pivot.set_transform(tf.rotation_matrix(x / 4 - np.pi / 2, [0, 1, 0]))\n",
    "    time.sleep(0.01)"
   ]
  },
  {
   "cell_type": "code",
   "execution_count": null,
   "metadata": {},
   "outputs": [],
   "source": []
  }
 ],
 "metadata": {
  "kernelspec": {
   "display_name": "Python 3",
   "language": "python",
   "name": "python3"
  },
  "language_info": {
   "codemirror_mode": {
    "name": "ipython",
    "version": 3
   },
   "file_extension": ".py",
   "mimetype": "text/x-python",
   "name": "python",
   "nbconvert_exporter": "python",
   "pygments_lexer": "ipython3",
   "version": "3.5.2"
  }
 },
 "nbformat": 4,
 "nbformat_minor": 2
}
